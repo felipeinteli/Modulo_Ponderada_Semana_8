{
  "nbformat": 4,
  "nbformat_minor": 0,
  "metadata": {
    "colab": {
      "provenance": []
    },
    "kernelspec": {
      "name": "python3",
      "display_name": "Python 3"
    },
    "language_info": {
      "name": "python"
    }
  },
  "cells": [
    {
      "cell_type": "code",
      "source": [
        "!pip install paho-mqtt==1.5.1\n"
      ],
      "metadata": {
        "colab": {
          "base_uri": "https://localhost:8080/"
        },
        "id": "WW5IxJOyCWD0",
        "outputId": "22e8299c-c281-4b76-f2f3-c6c2d413a73e"
      },
      "execution_count": 1,
      "outputs": [
        {
          "output_type": "stream",
          "name": "stdout",
          "text": [
            "Requirement already satisfied: paho-mqtt==1.5.1 in /usr/local/lib/python3.10/dist-packages (1.5.1)\n"
          ]
        }
      ]
    },
    {
      "cell_type": "code",
      "source": [
        "import paho.mqtt.client as mqtt\n",
        "\n",
        "# Função de callback quando a conexão com o broker for bem-sucedida\n",
        "def on_connect(client, userdata, flags, rc):\n",
        "    if rc == 0:\n",
        "        print(\"Conectado com sucesso ao broker MQTT\")\n",
        "    else:\n",
        "        print(f\"Falha na conexão, código de erro: {rc}\")\n",
        "\n",
        "# Função de callback quando a conexão for perdida\n",
        "def on_disconnect(client, userdata, rc):\n",
        "    print(f\"Desconectado do broker MQTT, código de erro: {rc}\")\n",
        "\n",
        "# Função de callback quando uma mensagem for publicada\n",
        "def on_publish(client, userdata, mid):\n",
        "    print(f\"Mensagem publicada com ID: {mid}\")\n",
        "\n",
        "# Função de callback quando uma mensagem for recebida\n",
        "def on_message(client, userdata, msg):\n",
        "    print(f\"Tópico: {msg.topic}\\nMensagem: {msg.payload.decode()}\")\n",
        "\n",
        "# Configurações do broker\n",
        "broker = \"broker.hivemq.com\"\n",
        "port = 8000\n",
        "client_id = \"clientID12345\"\n",
        "\n",
        "# Criar o objeto client\n",
        "client = mqtt.Client(client_id, transport=\"websockets\")\n",
        "client.on_connect = on_connect # Configurar callback para conexão\n",
        "client.on_disconnect = on_disconnect # Configurar callback para desconexão\n",
        "client.on_publish = on_publish # Configurar callback para publicação\n",
        "client.on_message = on_message # Configurar callback para mensagens recebidas\n",
        "\n",
        "# Definir opções do WebSocket\n",
        "client.ws_set_options(path=\"/mqtt\")\n",
        "\n",
        "# Conectar ao broker\n",
        "print(\"Conectando ao broker...\")\n",
        "client.connect(broker, port, 60)\n",
        "\n",
        "# Subscrever em um tópico\n",
        "topic = \"test/topic12345\"\n",
        "client.subscribe(topic)\n",
        "print(f\"Subscrevendo ao tópico: {topic}\")\n",
        "\n",
        "# Publicar uma mensagem no tópico\n",
        "result = client.publish(topic, \"Hello MQTT from Colab!\")\n",
        "print(f\"Resultado da publicação: {result.rc}\")\n",
        "\n",
        "# Manter o loop para processar mensagens\n",
        "client.loop_start()\n",
        "\n",
        "import time\n",
        "time.sleep(5)  # Esperar alguns segundos para garantir que mensagens sejam processadas\n",
        "\n",
        "# Parar o loop\n",
        "client.loop_stop()\n",
        "print(\"Loop parado.\")\n"
      ],
      "metadata": {
        "colab": {
          "base_uri": "https://localhost:8080/"
        },
        "id": "JLFeullhCbNG",
        "outputId": "5da95b68-5463-4048-bf1e-ead1a2a0ef8c"
      },
      "execution_count": 12,
      "outputs": [
        {
          "output_type": "stream",
          "name": "stdout",
          "text": [
            "Desconectado do broker MQTT, código de erro: 1\n",
            "Conectado com sucesso ao broker MQTT\n",
            "Conectando ao broker...\n",
            "Subscrevendo ao tópico: test/topic12345\n",
            "Mensagem publicada com ID: 2\n",
            "Resultado da publicação: 0\n",
            "Desconectado do broker MQTT, código de erro: 1\n",
            "Conectado com sucesso ao broker MQTT\n",
            "Tópico: test/topic12345\n",
            "Mensagem: Hello MQTT from Colab!\n",
            "Desconectado do broker MQTT, código de erro: 1\n",
            "Conectado com sucesso ao broker MQTT\n",
            "Desconectado do broker MQTT, código de erro: 1\n",
            "Conectado com sucesso ao broker MQTT\n",
            "Desconectado do broker MQTT, código de erro: 1\n",
            "Conectado com sucesso ao broker MQTT\n",
            "Desconectado do broker MQTT, código de erro: 1\n",
            "Conectado com sucesso ao broker MQTT\n",
            "Desconectado do broker MQTT, código de erro: 1\n",
            "Conectado com sucesso ao broker MQTT\n",
            "Desconectado do broker MQTT, código de erro: 1\n",
            "Conectado com sucesso ao broker MQTT\n",
            "Loop parado.\n",
            "Conectado com sucesso ao broker MQTT\n"
          ]
        }
      ]
    },
    {
      "cell_type": "code",
      "source": [],
      "metadata": {
        "id": "qcy-C4wFFIpq"
      },
      "execution_count": null,
      "outputs": []
    }
  ]
}